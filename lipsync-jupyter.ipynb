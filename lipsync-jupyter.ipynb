{
 "cells": [
  {
   "cell_type": "code",
   "execution_count": 1,
   "id": "9a16c596",
   "metadata": {},
   "outputs": [
    {
     "name": "stdout",
     "output_type": "stream",
     "text": [
      "2.4.1+cpu\n",
      "CUDA Available: False\n"
     ]
    }
   ],
   "source": [
    "import torch\n",
    "print(torch.__version__)\n",
    "print(\"CUDA Available:\", torch.cuda.is_available())\n"
   ]
  },
  {
   "cell_type": "code",
   "execution_count": 2,
   "id": "bbb18cfa",
   "metadata": {},
   "outputs": [
    {
     "name": "stdout",
     "output_type": "stream",
     "text": [
      "4.11.0\n"
     ]
    }
   ],
   "source": [
    "import cv2\n",
    "print(cv2.__version__)\n"
   ]
  },
  {
   "cell_type": "code",
   "execution_count": 3,
   "id": "98cb784e",
   "metadata": {},
   "outputs": [
    {
     "name": "stdout",
     "output_type": "stream",
     "text": [
      "D:\\Xenon\\Projects\\lipsync\\Wav2Lip\n"
     ]
    }
   ],
   "source": [
    "%cd Wav2Lip"
   ]
  },
  {
   "cell_type": "code",
   "execution_count": 9,
   "id": "96c98b98",
   "metadata": {},
   "outputs": [
    {
     "name": "stdout",
     "output_type": "stream",
     "text": [
      "^C\n"
     ]
    }
   ],
   "source": [
    "!python inference.py --checkpoint_path pretrained-models/wav2lip.pth --face \"D:\\Xenon\\Projects\\lipsync\\Inputs\\kim_7s_raw.mp4\" --audio \"D:\\Xenon\\Projects\\lipsync\\Inputs\\kimk_audio.mp3\" --outfile \"Output/output_wav2lip.mp4\""
   ]
  },
  {
   "cell_type": "code",
   "execution_count": 18,
   "id": "51a094aa",
   "metadata": {},
   "outputs": [
    {
     "name": "stdout",
     "output_type": "stream",
     "text": [
      "Video exists: True\n",
      "Audio exists: False\n"
     ]
    }
   ],
   "source": [
    "import os\n",
    "\n",
    "video_path = \"D:\\Xenon\\Projects\\lipsync\\Inputs/kim_7s_raw.mp4\"  # Update this if necessary\n",
    "audio_path = \"Inputs/kimk_audio.mp3\"  # Update this if necessary\n",
    "\n",
    "print(\"Video exists:\", os.path.exists(video_path))\n",
    "print(\"Audio exists:\", os.path.exists(audio_path))\n"
   ]
  },
  {
   "cell_type": "code",
   "execution_count": 6,
   "id": "0b008c1d",
   "metadata": {},
   "outputs": [
    {
     "name": "stdout",
     "output_type": "stream",
     "text": [
      "0\n"
     ]
    }
   ],
   "source": [
    "import os\n",
    "# Check if FFmpeg is in the PATH\n",
    "print(os.system('ffmpeg -version'))"
   ]
  },
  {
   "cell_type": "code",
   "execution_count": 7,
   "id": "9842227a",
   "metadata": {},
   "outputs": [
    {
     "name": "stdout",
     "output_type": "stream",
     "text": [
      "Requirement already satisfied: librosa in c:\\users\\sammi\\anaconda3\\envs\\lipsync\\lib\\site-packages (0.10.2.post1)\n",
      "Requirement already satisfied: soundfile in c:\\users\\sammi\\anaconda3\\envs\\lipsync\\lib\\site-packages (0.13.1)\n",
      "Collecting pydub\n",
      "  Downloading pydub-0.25.1-py2.py3-none-any.whl.metadata (1.4 kB)\n",
      "Requirement already satisfied: audioread in c:\\users\\sammi\\anaconda3\\envs\\lipsync\\lib\\site-packages (3.0.1)\n",
      "Requirement already satisfied: numpy!=1.22.0,!=1.22.1,!=1.22.2,>=1.20.3 in c:\\users\\sammi\\anaconda3\\envs\\lipsync\\lib\\site-packages (from librosa) (1.24.4)\n",
      "Requirement already satisfied: scipy>=1.2.0 in c:\\users\\sammi\\anaconda3\\envs\\lipsync\\lib\\site-packages (from librosa) (1.10.1)\n",
      "Requirement already satisfied: scikit-learn>=0.20.0 in c:\\users\\sammi\\anaconda3\\envs\\lipsync\\lib\\site-packages (from librosa) (1.3.2)\n",
      "Requirement already satisfied: joblib>=0.14 in c:\\users\\sammi\\anaconda3\\envs\\lipsync\\lib\\site-packages (from librosa) (1.4.2)\n",
      "Requirement already satisfied: decorator>=4.3.0 in c:\\users\\sammi\\anaconda3\\envs\\lipsync\\lib\\site-packages (from librosa) (5.1.1)\n",
      "Requirement already satisfied: numba>=0.51.0 in c:\\users\\sammi\\anaconda3\\envs\\lipsync\\lib\\site-packages (from librosa) (0.58.1)\n",
      "Requirement already satisfied: pooch>=1.1 in c:\\users\\sammi\\anaconda3\\envs\\lipsync\\lib\\site-packages (from librosa) (1.8.2)\n",
      "Requirement already satisfied: soxr>=0.3.2 in c:\\users\\sammi\\anaconda3\\envs\\lipsync\\lib\\site-packages (from librosa) (0.3.7)\n",
      "Requirement already satisfied: typing-extensions>=4.1.1 in c:\\users\\sammi\\anaconda3\\envs\\lipsync\\lib\\site-packages (from librosa) (4.12.2)\n",
      "Requirement already satisfied: lazy-loader>=0.1 in c:\\users\\sammi\\anaconda3\\envs\\lipsync\\lib\\site-packages (from librosa) (0.4)\n",
      "Requirement already satisfied: msgpack>=1.0 in c:\\users\\sammi\\anaconda3\\envs\\lipsync\\lib\\site-packages (from librosa) (1.1.0)\n",
      "Requirement already satisfied: cffi>=1.0 in c:\\users\\sammi\\anaconda3\\envs\\lipsync\\lib\\site-packages (from soundfile) (1.17.0)\n",
      "Requirement already satisfied: pycparser in c:\\users\\sammi\\anaconda3\\envs\\lipsync\\lib\\site-packages (from cffi>=1.0->soundfile) (2.22)\n",
      "Requirement already satisfied: packaging in c:\\users\\sammi\\anaconda3\\envs\\lipsync\\lib\\site-packages (from lazy-loader>=0.1->librosa) (24.2)\n",
      "Requirement already satisfied: llvmlite<0.42,>=0.41.0dev0 in c:\\users\\sammi\\anaconda3\\envs\\lipsync\\lib\\site-packages (from numba>=0.51.0->librosa) (0.41.1)\n",
      "Requirement already satisfied: importlib-metadata in c:\\users\\sammi\\anaconda3\\envs\\lipsync\\lib\\site-packages (from numba>=0.51.0->librosa) (8.5.0)\n",
      "Requirement already satisfied: platformdirs>=2.5.0 in c:\\users\\sammi\\anaconda3\\envs\\lipsync\\lib\\site-packages (from pooch>=1.1->librosa) (4.3.6)\n",
      "Requirement already satisfied: requests>=2.19.0 in c:\\users\\sammi\\anaconda3\\envs\\lipsync\\lib\\site-packages (from pooch>=1.1->librosa) (2.32.3)\n",
      "Requirement already satisfied: threadpoolctl>=2.0.0 in c:\\users\\sammi\\anaconda3\\envs\\lipsync\\lib\\site-packages (from scikit-learn>=0.20.0->librosa) (3.5.0)\n",
      "Requirement already satisfied: charset-normalizer<4,>=2 in c:\\users\\sammi\\anaconda3\\envs\\lipsync\\lib\\site-packages (from requests>=2.19.0->pooch>=1.1->librosa) (3.4.0)\n",
      "Requirement already satisfied: idna<4,>=2.5 in c:\\users\\sammi\\anaconda3\\envs\\lipsync\\lib\\site-packages (from requests>=2.19.0->pooch>=1.1->librosa) (3.10)\n",
      "Requirement already satisfied: urllib3<3,>=1.21.1 in c:\\users\\sammi\\anaconda3\\envs\\lipsync\\lib\\site-packages (from requests>=2.19.0->pooch>=1.1->librosa) (2.2.3)\n",
      "Requirement already satisfied: certifi>=2017.4.17 in c:\\users\\sammi\\anaconda3\\envs\\lipsync\\lib\\site-packages (from requests>=2.19.0->pooch>=1.1->librosa) (2024.12.14)\n",
      "Requirement already satisfied: zipp>=3.20 in c:\\users\\sammi\\anaconda3\\envs\\lipsync\\lib\\site-packages (from importlib-metadata->numba>=0.51.0->librosa) (3.20.2)\n",
      "Using cached pydub-0.25.1-py2.py3-none-any.whl (32 kB)\n",
      "Installing collected packages: pydub\n",
      "Successfully installed pydub-0.25.1\n"
     ]
    }
   ],
   "source": [
    "!pip install --upgrade librosa soundfile pydub audioread"
   ]
  },
  {
   "cell_type": "code",
   "execution_count": null,
   "id": "2b5c546c",
   "metadata": {},
   "outputs": [],
   "source": []
  }
 ],
 "metadata": {
  "kernelspec": {
   "display_name": "Python 3 (ipykernel)",
   "language": "python",
   "name": "python3"
  },
  "language_info": {
   "codemirror_mode": {
    "name": "ipython",
    "version": 3
   },
   "file_extension": ".py",
   "mimetype": "text/x-python",
   "name": "python",
   "nbconvert_exporter": "python",
   "pygments_lexer": "ipython3",
   "version": "3.8.20"
  }
 },
 "nbformat": 4,
 "nbformat_minor": 5
}
